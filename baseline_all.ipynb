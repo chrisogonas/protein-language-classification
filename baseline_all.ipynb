{
 "cells": [
  {
   "cell_type": "code",
   "execution_count": 1,
   "id": "30a5ee96",
   "metadata": {},
   "outputs": [],
   "source": [
    "import pandas as pd"
   ]
  },
  {
   "cell_type": "code",
   "execution_count": 2,
   "id": "82786419",
   "metadata": {},
   "outputs": [],
   "source": [
    "# df_acp = pd.read_csv('data/acp/train_data.csv', header=0) # reading the training dataset for acp\n",
    "# df_acp_test = pd.read_csv('data/acp/test_data.csv', header=0) # reading the test dataset for acp\n"
   ]
  },
  {
   "cell_type": "code",
   "execution_count": 3,
   "id": "246dca36",
   "metadata": {},
   "outputs": [],
   "source": [
    "# df_amp = pd.read_csv('data/amp/all_data.csv', header=0) # reading the training dataset for amp\n",
    "# df_amp_test = pd.read_csv('data/amp/all_data.csv', header=1) # reading the test dataset for amp"
   ]
  },
  {
   "cell_type": "code",
   "execution_count": 4,
   "id": "669c6305",
   "metadata": {},
   "outputs": [],
   "source": [
    "df_dna = pd.read_csv('data/dna_binding/train.csv', header=0) # reading the training dataset for dna\n",
    "df_dna_test = pd.read_csv('data/dna_binding/test.csv', header=0) # reading the test dataset for dna\n"
   ]
  },
  {
   "cell_type": "code",
   "execution_count": 5,
   "id": "53a17fe4",
   "metadata": {},
   "outputs": [
    {
     "data": {
      "text/html": [
       "<div>\n",
       "<style scoped>\n",
       "    .dataframe tbody tr th:only-of-type {\n",
       "        vertical-align: middle;\n",
       "    }\n",
       "\n",
       "    .dataframe tbody tr th {\n",
       "        vertical-align: top;\n",
       "    }\n",
       "\n",
       "    .dataframe thead th {\n",
       "        text-align: right;\n",
       "    }\n",
       "</style>\n",
       "<table border=\"1\" class=\"dataframe\">\n",
       "  <thead>\n",
       "    <tr style=\"text-align: right;\">\n",
       "      <th></th>\n",
       "      <th>code</th>\n",
       "      <th>sequence</th>\n",
       "      <th>label</th>\n",
       "      <th>origin</th>\n",
       "    </tr>\n",
       "  </thead>\n",
       "  <tbody>\n",
       "    <tr>\n",
       "      <th>0</th>\n",
       "      <td>Q6A8L0</td>\n",
       "      <td>MSGHSKWATTKHKKAAIDAKRGKLFARLIKNIEVAARLGGGDPSGN...</td>\n",
       "      <td>1</td>\n",
       "      <td>https://github.com/hfuulgb/PDB-Fusion/tree/mai...</td>\n",
       "    </tr>\n",
       "    <tr>\n",
       "      <th>1</th>\n",
       "      <td>Q7V7T9</td>\n",
       "      <td>MIGWLQGQKVEAWQQGTRQGVVLACAGVGYEVQIAPRHLSEMEHGQ...</td>\n",
       "      <td>1</td>\n",
       "      <td>https://github.com/hfuulgb/PDB-Fusion/tree/mai...</td>\n",
       "    </tr>\n",
       "  </tbody>\n",
       "</table>\n",
       "</div>"
      ],
      "text/plain": [
       "     code                                           sequence  label  \\\n",
       "0  Q6A8L0  MSGHSKWATTKHKKAAIDAKRGKLFARLIKNIEVAARLGGGDPSGN...      1   \n",
       "1  Q7V7T9  MIGWLQGQKVEAWQQGTRQGVVLACAGVGYEVQIAPRHLSEMEHGQ...      1   \n",
       "\n",
       "                                              origin  \n",
       "0  https://github.com/hfuulgb/PDB-Fusion/tree/mai...  \n",
       "1  https://github.com/hfuulgb/PDB-Fusion/tree/mai...  "
      ]
     },
     "execution_count": 5,
     "metadata": {},
     "output_type": "execute_result"
    }
   ],
   "source": [
    "df_dna.head(2)"
   ]
  },
  {
   "cell_type": "code",
   "execution_count": 6,
   "id": "88e2f910",
   "metadata": {},
   "outputs": [],
   "source": [
    "# split sequences into single characters\n",
    "df_dna_split = df_dna['sequence'].str.split(pat=\"\", expand=True)"
   ]
  },
  {
   "cell_type": "code",
   "execution_count": 7,
   "id": "8a7421cb",
   "metadata": {},
   "outputs": [
    {
     "data": {
      "text/html": [
       "<div>\n",
       "<style scoped>\n",
       "    .dataframe tbody tr th:only-of-type {\n",
       "        vertical-align: middle;\n",
       "    }\n",
       "\n",
       "    .dataframe tbody tr th {\n",
       "        vertical-align: top;\n",
       "    }\n",
       "\n",
       "    .dataframe thead th {\n",
       "        text-align: right;\n",
       "    }\n",
       "</style>\n",
       "<table border=\"1\" class=\"dataframe\">\n",
       "  <thead>\n",
       "    <tr style=\"text-align: right;\">\n",
       "      <th></th>\n",
       "      <th>0</th>\n",
       "      <th>1</th>\n",
       "      <th>2</th>\n",
       "      <th>3</th>\n",
       "      <th>4</th>\n",
       "      <th>5</th>\n",
       "      <th>6</th>\n",
       "      <th>7</th>\n",
       "      <th>8</th>\n",
       "      <th>9</th>\n",
       "      <th>...</th>\n",
       "      <th>4903</th>\n",
       "      <th>4904</th>\n",
       "      <th>4905</th>\n",
       "      <th>4906</th>\n",
       "      <th>4907</th>\n",
       "      <th>4908</th>\n",
       "      <th>4909</th>\n",
       "      <th>4910</th>\n",
       "      <th>4911</th>\n",
       "      <th>4912</th>\n",
       "    </tr>\n",
       "  </thead>\n",
       "  <tbody>\n",
       "    <tr>\n",
       "      <th>4889</th>\n",
       "      <td></td>\n",
       "      <td>M</td>\n",
       "      <td>A</td>\n",
       "      <td>S</td>\n",
       "      <td>S</td>\n",
       "      <td>P</td>\n",
       "      <td>L</td>\n",
       "      <td>T</td>\n",
       "      <td>A</td>\n",
       "      <td>N</td>\n",
       "      <td>...</td>\n",
       "      <td>None</td>\n",
       "      <td>None</td>\n",
       "      <td>None</td>\n",
       "      <td>None</td>\n",
       "      <td>None</td>\n",
       "      <td>None</td>\n",
       "      <td>None</td>\n",
       "      <td>None</td>\n",
       "      <td>None</td>\n",
       "      <td>None</td>\n",
       "    </tr>\n",
       "    <tr>\n",
       "      <th>9026</th>\n",
       "      <td></td>\n",
       "      <td>Q</td>\n",
       "      <td>D</td>\n",
       "      <td>W</td>\n",
       "      <td>S</td>\n",
       "      <td>S</td>\n",
       "      <td>F</td>\n",
       "      <td>Q</td>\n",
       "      <td>N</td>\n",
       "      <td>K</td>\n",
       "      <td>...</td>\n",
       "      <td>None</td>\n",
       "      <td>None</td>\n",
       "      <td>None</td>\n",
       "      <td>None</td>\n",
       "      <td>None</td>\n",
       "      <td>None</td>\n",
       "      <td>None</td>\n",
       "      <td>None</td>\n",
       "      <td>None</td>\n",
       "      <td>None</td>\n",
       "    </tr>\n",
       "    <tr>\n",
       "      <th>2718</th>\n",
       "      <td></td>\n",
       "      <td>M</td>\n",
       "      <td>S</td>\n",
       "      <td>I</td>\n",
       "      <td>D</td>\n",
       "      <td>F</td>\n",
       "      <td>P</td>\n",
       "      <td>L</td>\n",
       "      <td>G</td>\n",
       "      <td>D</td>\n",
       "      <td>...</td>\n",
       "      <td>None</td>\n",
       "      <td>None</td>\n",
       "      <td>None</td>\n",
       "      <td>None</td>\n",
       "      <td>None</td>\n",
       "      <td>None</td>\n",
       "      <td>None</td>\n",
       "      <td>None</td>\n",
       "      <td>None</td>\n",
       "      <td>None</td>\n",
       "    </tr>\n",
       "  </tbody>\n",
       "</table>\n",
       "<p>3 rows × 4913 columns</p>\n",
       "</div>"
      ],
      "text/plain": [
       "     0    1    2    3    4    5    6    7    8    9     ...  4903  4904  4905  \\\n",
       "4889         M    A    S    S    P    L    T    A    N  ...  None  None  None   \n",
       "9026         Q    D    W    S    S    F    Q    N    K  ...  None  None  None   \n",
       "2718         M    S    I    D    F    P    L    G    D  ...  None  None  None   \n",
       "\n",
       "      4906  4907  4908  4909  4910  4911  4912  \n",
       "4889  None  None  None  None  None  None  None  \n",
       "9026  None  None  None  None  None  None  None  \n",
       "2718  None  None  None  None  None  None  None  \n",
       "\n",
       "[3 rows x 4913 columns]"
      ]
     },
     "execution_count": 7,
     "metadata": {},
     "output_type": "execute_result"
    }
   ],
   "source": [
    "df_dna_split.sample(3)"
   ]
  },
  {
   "cell_type": "code",
   "execution_count": 8,
   "id": "910a680d",
   "metadata": {},
   "outputs": [],
   "source": [
    "df_dna_test_split = df_dna_test['sequence'].str.split(pat=\"\", expand=True)"
   ]
  },
  {
   "cell_type": "code",
   "execution_count": 9,
   "id": "22ae64c9",
   "metadata": {},
   "outputs": [],
   "source": [
    "df3 = df_dna[['code']].join(df_dna_split)"
   ]
  },
  {
   "cell_type": "code",
   "execution_count": 10,
   "id": "11283ad1",
   "metadata": {},
   "outputs": [],
   "source": [
    "df_dna_01 = df3.join(df_dna[['label']])"
   ]
  },
  {
   "cell_type": "code",
   "execution_count": 11,
   "id": "109bbe48",
   "metadata": {},
   "outputs": [
    {
     "data": {
      "text/html": [
       "<div>\n",
       "<style scoped>\n",
       "    .dataframe tbody tr th:only-of-type {\n",
       "        vertical-align: middle;\n",
       "    }\n",
       "\n",
       "    .dataframe tbody tr th {\n",
       "        vertical-align: top;\n",
       "    }\n",
       "\n",
       "    .dataframe thead th {\n",
       "        text-align: right;\n",
       "    }\n",
       "</style>\n",
       "<table border=\"1\" class=\"dataframe\">\n",
       "  <thead>\n",
       "    <tr style=\"text-align: right;\">\n",
       "      <th></th>\n",
       "      <th>code</th>\n",
       "      <th>0</th>\n",
       "      <th>1</th>\n",
       "      <th>2</th>\n",
       "      <th>3</th>\n",
       "      <th>4</th>\n",
       "      <th>5</th>\n",
       "      <th>6</th>\n",
       "      <th>7</th>\n",
       "      <th>8</th>\n",
       "      <th>...</th>\n",
       "      <th>4904</th>\n",
       "      <th>4905</th>\n",
       "      <th>4906</th>\n",
       "      <th>4907</th>\n",
       "      <th>4908</th>\n",
       "      <th>4909</th>\n",
       "      <th>4910</th>\n",
       "      <th>4911</th>\n",
       "      <th>4912</th>\n",
       "      <th>label</th>\n",
       "    </tr>\n",
       "  </thead>\n",
       "  <tbody>\n",
       "    <tr>\n",
       "      <th>0</th>\n",
       "      <td>Q6A8L0</td>\n",
       "      <td></td>\n",
       "      <td>M</td>\n",
       "      <td>S</td>\n",
       "      <td>G</td>\n",
       "      <td>H</td>\n",
       "      <td>S</td>\n",
       "      <td>K</td>\n",
       "      <td>W</td>\n",
       "      <td>A</td>\n",
       "      <td>...</td>\n",
       "      <td>None</td>\n",
       "      <td>None</td>\n",
       "      <td>None</td>\n",
       "      <td>None</td>\n",
       "      <td>None</td>\n",
       "      <td>None</td>\n",
       "      <td>None</td>\n",
       "      <td>None</td>\n",
       "      <td>None</td>\n",
       "      <td>1</td>\n",
       "    </tr>\n",
       "    <tr>\n",
       "      <th>1</th>\n",
       "      <td>Q7V7T9</td>\n",
       "      <td></td>\n",
       "      <td>M</td>\n",
       "      <td>I</td>\n",
       "      <td>G</td>\n",
       "      <td>W</td>\n",
       "      <td>L</td>\n",
       "      <td>Q</td>\n",
       "      <td>G</td>\n",
       "      <td>Q</td>\n",
       "      <td>...</td>\n",
       "      <td>None</td>\n",
       "      <td>None</td>\n",
       "      <td>None</td>\n",
       "      <td>None</td>\n",
       "      <td>None</td>\n",
       "      <td>None</td>\n",
       "      <td>None</td>\n",
       "      <td>None</td>\n",
       "      <td>None</td>\n",
       "      <td>1</td>\n",
       "    </tr>\n",
       "    <tr>\n",
       "      <th>2</th>\n",
       "      <td>Q9ZUP2</td>\n",
       "      <td></td>\n",
       "      <td>M</td>\n",
       "      <td>A</td>\n",
       "      <td>R</td>\n",
       "      <td>I</td>\n",
       "      <td>L</td>\n",
       "      <td>R</td>\n",
       "      <td>N</td>\n",
       "      <td>V</td>\n",
       "      <td>...</td>\n",
       "      <td>None</td>\n",
       "      <td>None</td>\n",
       "      <td>None</td>\n",
       "      <td>None</td>\n",
       "      <td>None</td>\n",
       "      <td>None</td>\n",
       "      <td>None</td>\n",
       "      <td>None</td>\n",
       "      <td>None</td>\n",
       "      <td>1</td>\n",
       "    </tr>\n",
       "  </tbody>\n",
       "</table>\n",
       "<p>3 rows × 4915 columns</p>\n",
       "</div>"
      ],
      "text/plain": [
       "     code 0  1  2  3  4  5  6  7  8  ...  4904  4905  4906  4907  4908  4909  \\\n",
       "0  Q6A8L0    M  S  G  H  S  K  W  A  ...  None  None  None  None  None  None   \n",
       "1  Q7V7T9    M  I  G  W  L  Q  G  Q  ...  None  None  None  None  None  None   \n",
       "2  Q9ZUP2    M  A  R  I  L  R  N  V  ...  None  None  None  None  None  None   \n",
       "\n",
       "   4910  4911  4912 label  \n",
       "0  None  None  None     1  \n",
       "1  None  None  None     1  \n",
       "2  None  None  None     1  \n",
       "\n",
       "[3 rows x 4915 columns]"
      ]
     },
     "execution_count": 11,
     "metadata": {},
     "output_type": "execute_result"
    }
   ],
   "source": [
    "df_dna_01.head(3)"
   ]
  },
  {
   "cell_type": "code",
   "execution_count": 12,
   "id": "dce2dd8b",
   "metadata": {},
   "outputs": [
    {
     "data": {
      "text/plain": [
       "(14189, 4915)"
      ]
     },
     "execution_count": 12,
     "metadata": {},
     "output_type": "execute_result"
    }
   ],
   "source": [
    "df_dna_01.shape"
   ]
  },
  {
   "cell_type": "code",
   "execution_count": 13,
   "id": "987b801c",
   "metadata": {},
   "outputs": [
    {
     "data": {
      "text/html": [
       "<div>\n",
       "<style scoped>\n",
       "    .dataframe tbody tr th:only-of-type {\n",
       "        vertical-align: middle;\n",
       "    }\n",
       "\n",
       "    .dataframe tbody tr th {\n",
       "        vertical-align: top;\n",
       "    }\n",
       "\n",
       "    .dataframe thead th {\n",
       "        text-align: right;\n",
       "    }\n",
       "</style>\n",
       "<table border=\"1\" class=\"dataframe\">\n",
       "  <thead>\n",
       "    <tr style=\"text-align: right;\">\n",
       "      <th></th>\n",
       "      <th>code</th>\n",
       "      <th>0</th>\n",
       "      <th>1</th>\n",
       "      <th>2</th>\n",
       "      <th>3</th>\n",
       "      <th>4</th>\n",
       "      <th>5</th>\n",
       "      <th>6</th>\n",
       "      <th>7</th>\n",
       "      <th>8</th>\n",
       "      <th>...</th>\n",
       "      <th>5176</th>\n",
       "      <th>5177</th>\n",
       "      <th>5178</th>\n",
       "      <th>5179</th>\n",
       "      <th>5180</th>\n",
       "      <th>5181</th>\n",
       "      <th>5182</th>\n",
       "      <th>5183</th>\n",
       "      <th>5184</th>\n",
       "      <th>label</th>\n",
       "    </tr>\n",
       "  </thead>\n",
       "  <tbody>\n",
       "    <tr>\n",
       "      <th>0</th>\n",
       "      <td>P27204|1</td>\n",
       "      <td></td>\n",
       "      <td>A</td>\n",
       "      <td>K</td>\n",
       "      <td>K</td>\n",
       "      <td>R</td>\n",
       "      <td>S</td>\n",
       "      <td>R</td>\n",
       "      <td>S</td>\n",
       "      <td>R</td>\n",
       "      <td>...</td>\n",
       "      <td>None</td>\n",
       "      <td>None</td>\n",
       "      <td>None</td>\n",
       "      <td>None</td>\n",
       "      <td>None</td>\n",
       "      <td>None</td>\n",
       "      <td>None</td>\n",
       "      <td>None</td>\n",
       "      <td>None</td>\n",
       "      <td>1</td>\n",
       "    </tr>\n",
       "    <tr>\n",
       "      <th>1</th>\n",
       "      <td>P53528|1</td>\n",
       "      <td></td>\n",
       "      <td>M</td>\n",
       "      <td>V</td>\n",
       "      <td>M</td>\n",
       "      <td>V</td>\n",
       "      <td>V</td>\n",
       "      <td>N</td>\n",
       "      <td>P</td>\n",
       "      <td>L</td>\n",
       "      <td>...</td>\n",
       "      <td>None</td>\n",
       "      <td>None</td>\n",
       "      <td>None</td>\n",
       "      <td>None</td>\n",
       "      <td>None</td>\n",
       "      <td>None</td>\n",
       "      <td>None</td>\n",
       "      <td>None</td>\n",
       "      <td>None</td>\n",
       "      <td>1</td>\n",
       "    </tr>\n",
       "    <tr>\n",
       "      <th>2</th>\n",
       "      <td>P52684|1</td>\n",
       "      <td></td>\n",
       "      <td>M</td>\n",
       "      <td>K</td>\n",
       "      <td>D</td>\n",
       "      <td>D</td>\n",
       "      <td>I</td>\n",
       "      <td>N</td>\n",
       "      <td>Q</td>\n",
       "      <td>E</td>\n",
       "      <td>...</td>\n",
       "      <td>None</td>\n",
       "      <td>None</td>\n",
       "      <td>None</td>\n",
       "      <td>None</td>\n",
       "      <td>None</td>\n",
       "      <td>None</td>\n",
       "      <td>None</td>\n",
       "      <td>None</td>\n",
       "      <td>None</td>\n",
       "      <td>1</td>\n",
       "    </tr>\n",
       "  </tbody>\n",
       "</table>\n",
       "<p>3 rows × 5187 columns</p>\n",
       "</div>"
      ],
      "text/plain": [
       "       code 0  1  2  3  4  5  6  7  8  ...  5176  5177  5178  5179  5180  \\\n",
       "0  P27204|1    A  K  K  R  S  R  S  R  ...  None  None  None  None  None   \n",
       "1  P53528|1    M  V  M  V  V  N  P  L  ...  None  None  None  None  None   \n",
       "2  P52684|1    M  K  D  D  I  N  Q  E  ...  None  None  None  None  None   \n",
       "\n",
       "   5181  5182  5183  5184 label  \n",
       "0  None  None  None  None     1  \n",
       "1  None  None  None  None     1  \n",
       "2  None  None  None  None     1  \n",
       "\n",
       "[3 rows x 5187 columns]"
      ]
     },
     "execution_count": 13,
     "metadata": {},
     "output_type": "execute_result"
    }
   ],
   "source": [
    "# test dna\n",
    "df4 = df_dna_test[['code']].join(df_dna_test_split)\n",
    "df_dna_test_01 = df4.join(df_dna_test[['label']])\n",
    "df_dna_test_01.head(3)"
   ]
  },
  {
   "cell_type": "code",
   "execution_count": 14,
   "id": "1421da61",
   "metadata": {},
   "outputs": [],
   "source": [
    "# df5 = df_dna_test.copy() ### [[pd.Series.str.len(['sequence'])]]\n",
    "# df5['seq_length'] = df_dna_test['sequence'].str.len()\n",
    "# print(df5.head(3))\n",
    "# print(df5.loc[df5['seq_length'].idxmax()]['seq_length']) # length of longest sequence\n",
    "# df5['seq_length'].idxmax() #['seq_length']\n",
    "# df5.sort_values(by='seq_length', ascending=False, inplace=False).head(3)"
   ]
  },
  {
   "cell_type": "code",
   "execution_count": 15,
   "id": "796e0130",
   "metadata": {},
   "outputs": [],
   "source": [
    "letters = ['','A', 'B', 'C', 'D', 'E', 'F', 'G','H','I','J','K','L','M',\n",
    "         'N','O','P','Q','R','S','T','U','V','W','X','Y','Z']\n",
    "letter_2num = { s: i for i, s in enumerate(letters) }"
   ]
  },
  {
   "cell_type": "code",
   "execution_count": 16,
   "id": "29e6d339",
   "metadata": {},
   "outputs": [
    {
     "data": {
      "text/plain": [
       "Index([   0,    1,    2,    3,    4,    5,    6,    7,    8,    9,\n",
       "       ...\n",
       "       4903, 4904, 4905, 4906, 4907, 4908, 4909, 4910, 4911, 4912],\n",
       "      dtype='object', length=4913)"
      ]
     },
     "execution_count": 16,
     "metadata": {},
     "output_type": "execute_result"
    }
   ],
   "source": [
    "df_dna_01.columns[1: len(df_dna_01.columns)-1]"
   ]
  },
  {
   "cell_type": "markdown",
   "id": "3d92a343",
   "metadata": {},
   "source": [
    "`Encode protein sequences`"
   ]
  },
  {
   "cell_type": "code",
   "execution_count": 17,
   "id": "3f2d6370",
   "metadata": {},
   "outputs": [
    {
     "name": "stdout",
     "output_type": "stream",
     "text": [
      "2.39 s ± 81.5 ms per loop (mean ± std. dev. of 7 runs, 1 loop each)\n"
     ]
    }
   ],
   "source": [
    "%%timeit\n",
    "for column in df_dna_01.columns[1: len(df_dna_01.columns)-1]:\n",
    "    df_dna_01[column] = df_dna_01[column].replace(letter_2num)"
   ]
  },
  {
   "cell_type": "code",
   "execution_count": 21,
   "id": "03db7a4b",
   "metadata": {},
   "outputs": [],
   "source": [
    "df_dna_01.to_csv('data/dna_binding/dna_train_file.csv')"
   ]
  },
  {
   "cell_type": "code",
   "execution_count": 19,
   "id": "644d6931",
   "metadata": {},
   "outputs": [
    {
     "data": {
      "text/html": [
       "<div>\n",
       "<style scoped>\n",
       "    .dataframe tbody tr th:only-of-type {\n",
       "        vertical-align: middle;\n",
       "    }\n",
       "\n",
       "    .dataframe tbody tr th {\n",
       "        vertical-align: top;\n",
       "    }\n",
       "\n",
       "    .dataframe thead th {\n",
       "        text-align: right;\n",
       "    }\n",
       "</style>\n",
       "<table border=\"1\" class=\"dataframe\">\n",
       "  <thead>\n",
       "    <tr style=\"text-align: right;\">\n",
       "      <th></th>\n",
       "      <th>0</th>\n",
       "      <th>1</th>\n",
       "      <th>2</th>\n",
       "      <th>3</th>\n",
       "      <th>4</th>\n",
       "      <th>5</th>\n",
       "      <th>6</th>\n",
       "      <th>7</th>\n",
       "      <th>8</th>\n",
       "      <th>9</th>\n",
       "      <th>...</th>\n",
       "      <th>4904</th>\n",
       "      <th>4905</th>\n",
       "      <th>4906</th>\n",
       "      <th>4907</th>\n",
       "      <th>4908</th>\n",
       "      <th>4909</th>\n",
       "      <th>4910</th>\n",
       "      <th>4911</th>\n",
       "      <th>4912</th>\n",
       "      <th>label</th>\n",
       "    </tr>\n",
       "  </thead>\n",
       "  <tbody>\n",
       "    <tr>\n",
       "      <th>count</th>\n",
       "      <td>14189.0</td>\n",
       "      <td>14189.000000</td>\n",
       "      <td>14189.000000</td>\n",
       "      <td>14189.000000</td>\n",
       "      <td>14189.000000</td>\n",
       "      <td>14189.000000</td>\n",
       "      <td>14189.000000</td>\n",
       "      <td>14189.000000</td>\n",
       "      <td>14189.000000</td>\n",
       "      <td>14189.000000</td>\n",
       "      <td>...</td>\n",
       "      <td>1.0</td>\n",
       "      <td>1.0</td>\n",
       "      <td>1.0</td>\n",
       "      <td>1.0</td>\n",
       "      <td>1.0</td>\n",
       "      <td>1.0</td>\n",
       "      <td>1.0</td>\n",
       "      <td>1.0</td>\n",
       "      <td>1.0</td>\n",
       "      <td>14189.000000</td>\n",
       "    </tr>\n",
       "    <tr>\n",
       "      <th>mean</th>\n",
       "      <td>0.0</td>\n",
       "      <td>12.973994</td>\n",
       "      <td>11.546409</td>\n",
       "      <td>12.558884</td>\n",
       "      <td>12.797801</td>\n",
       "      <td>12.528015</td>\n",
       "      <td>12.501656</td>\n",
       "      <td>12.427091</td>\n",
       "      <td>12.355416</td>\n",
       "      <td>12.174924</td>\n",
       "      <td>...</td>\n",
       "      <td>22.0</td>\n",
       "      <td>14.0</td>\n",
       "      <td>3.0</td>\n",
       "      <td>18.0</td>\n",
       "      <td>11.0</td>\n",
       "      <td>23.0</td>\n",
       "      <td>13.0</td>\n",
       "      <td>14.0</td>\n",
       "      <td>0.0</td>\n",
       "      <td>0.502431</td>\n",
       "    </tr>\n",
       "    <tr>\n",
       "      <th>std</th>\n",
       "      <td>0.0</td>\n",
       "      <td>1.135561</td>\n",
       "      <td>7.110969</td>\n",
       "      <td>6.453527</td>\n",
       "      <td>6.468281</td>\n",
       "      <td>6.517397</td>\n",
       "      <td>6.522970</td>\n",
       "      <td>6.522239</td>\n",
       "      <td>6.613055</td>\n",
       "      <td>6.622168</td>\n",
       "      <td>...</td>\n",
       "      <td>NaN</td>\n",
       "      <td>NaN</td>\n",
       "      <td>NaN</td>\n",
       "      <td>NaN</td>\n",
       "      <td>NaN</td>\n",
       "      <td>NaN</td>\n",
       "      <td>NaN</td>\n",
       "      <td>NaN</td>\n",
       "      <td>NaN</td>\n",
       "      <td>0.500012</td>\n",
       "    </tr>\n",
       "    <tr>\n",
       "      <th>min</th>\n",
       "      <td>0.0</td>\n",
       "      <td>1.000000</td>\n",
       "      <td>1.000000</td>\n",
       "      <td>1.000000</td>\n",
       "      <td>1.000000</td>\n",
       "      <td>1.000000</td>\n",
       "      <td>1.000000</td>\n",
       "      <td>1.000000</td>\n",
       "      <td>1.000000</td>\n",
       "      <td>1.000000</td>\n",
       "      <td>...</td>\n",
       "      <td>22.0</td>\n",
       "      <td>14.0</td>\n",
       "      <td>3.0</td>\n",
       "      <td>18.0</td>\n",
       "      <td>11.0</td>\n",
       "      <td>23.0</td>\n",
       "      <td>13.0</td>\n",
       "      <td>14.0</td>\n",
       "      <td>0.0</td>\n",
       "      <td>0.000000</td>\n",
       "    </tr>\n",
       "    <tr>\n",
       "      <th>25%</th>\n",
       "      <td>0.0</td>\n",
       "      <td>13.000000</td>\n",
       "      <td>5.000000</td>\n",
       "      <td>7.000000</td>\n",
       "      <td>7.000000</td>\n",
       "      <td>7.000000</td>\n",
       "      <td>7.000000</td>\n",
       "      <td>7.000000</td>\n",
       "      <td>7.000000</td>\n",
       "      <td>7.000000</td>\n",
       "      <td>...</td>\n",
       "      <td>22.0</td>\n",
       "      <td>14.0</td>\n",
       "      <td>3.0</td>\n",
       "      <td>18.0</td>\n",
       "      <td>11.0</td>\n",
       "      <td>23.0</td>\n",
       "      <td>13.0</td>\n",
       "      <td>14.0</td>\n",
       "      <td>0.0</td>\n",
       "      <td>0.000000</td>\n",
       "    </tr>\n",
       "    <tr>\n",
       "      <th>50%</th>\n",
       "      <td>0.0</td>\n",
       "      <td>13.000000</td>\n",
       "      <td>12.000000</td>\n",
       "      <td>12.000000</td>\n",
       "      <td>12.000000</td>\n",
       "      <td>12.000000</td>\n",
       "      <td>12.000000</td>\n",
       "      <td>12.000000</td>\n",
       "      <td>12.000000</td>\n",
       "      <td>12.000000</td>\n",
       "      <td>...</td>\n",
       "      <td>22.0</td>\n",
       "      <td>14.0</td>\n",
       "      <td>3.0</td>\n",
       "      <td>18.0</td>\n",
       "      <td>11.0</td>\n",
       "      <td>23.0</td>\n",
       "      <td>13.0</td>\n",
       "      <td>14.0</td>\n",
       "      <td>0.0</td>\n",
       "      <td>1.000000</td>\n",
       "    </tr>\n",
       "    <tr>\n",
       "      <th>75%</th>\n",
       "      <td>0.0</td>\n",
       "      <td>13.000000</td>\n",
       "      <td>19.000000</td>\n",
       "      <td>18.000000</td>\n",
       "      <td>19.000000</td>\n",
       "      <td>18.000000</td>\n",
       "      <td>18.000000</td>\n",
       "      <td>18.000000</td>\n",
       "      <td>18.000000</td>\n",
       "      <td>18.000000</td>\n",
       "      <td>...</td>\n",
       "      <td>22.0</td>\n",
       "      <td>14.0</td>\n",
       "      <td>3.0</td>\n",
       "      <td>18.0</td>\n",
       "      <td>11.0</td>\n",
       "      <td>23.0</td>\n",
       "      <td>13.0</td>\n",
       "      <td>14.0</td>\n",
       "      <td>0.0</td>\n",
       "      <td>1.000000</td>\n",
       "    </tr>\n",
       "    <tr>\n",
       "      <th>max</th>\n",
       "      <td>0.0</td>\n",
       "      <td>25.000000</td>\n",
       "      <td>25.000000</td>\n",
       "      <td>25.000000</td>\n",
       "      <td>25.000000</td>\n",
       "      <td>25.000000</td>\n",
       "      <td>25.000000</td>\n",
       "      <td>25.000000</td>\n",
       "      <td>25.000000</td>\n",
       "      <td>25.000000</td>\n",
       "      <td>...</td>\n",
       "      <td>22.0</td>\n",
       "      <td>14.0</td>\n",
       "      <td>3.0</td>\n",
       "      <td>18.0</td>\n",
       "      <td>11.0</td>\n",
       "      <td>23.0</td>\n",
       "      <td>13.0</td>\n",
       "      <td>14.0</td>\n",
       "      <td>0.0</td>\n",
       "      <td>1.000000</td>\n",
       "    </tr>\n",
       "  </tbody>\n",
       "</table>\n",
       "<p>8 rows × 4914 columns</p>\n",
       "</div>"
      ],
      "text/plain": [
       "             0             1             2             3             4  \\\n",
       "count  14189.0  14189.000000  14189.000000  14189.000000  14189.000000   \n",
       "mean       0.0     12.973994     11.546409     12.558884     12.797801   \n",
       "std        0.0      1.135561      7.110969      6.453527      6.468281   \n",
       "min        0.0      1.000000      1.000000      1.000000      1.000000   \n",
       "25%        0.0     13.000000      5.000000      7.000000      7.000000   \n",
       "50%        0.0     13.000000     12.000000     12.000000     12.000000   \n",
       "75%        0.0     13.000000     19.000000     18.000000     19.000000   \n",
       "max        0.0     25.000000     25.000000     25.000000     25.000000   \n",
       "\n",
       "                  5             6             7             8             9  \\\n",
       "count  14189.000000  14189.000000  14189.000000  14189.000000  14189.000000   \n",
       "mean      12.528015     12.501656     12.427091     12.355416     12.174924   \n",
       "std        6.517397      6.522970      6.522239      6.613055      6.622168   \n",
       "min        1.000000      1.000000      1.000000      1.000000      1.000000   \n",
       "25%        7.000000      7.000000      7.000000      7.000000      7.000000   \n",
       "50%       12.000000     12.000000     12.000000     12.000000     12.000000   \n",
       "75%       18.000000     18.000000     18.000000     18.000000     18.000000   \n",
       "max       25.000000     25.000000     25.000000     25.000000     25.000000   \n",
       "\n",
       "       ...  4904  4905  4906  4907  4908  4909  4910  4911  4912         label  \n",
       "count  ...   1.0   1.0   1.0   1.0   1.0   1.0   1.0   1.0   1.0  14189.000000  \n",
       "mean   ...  22.0  14.0   3.0  18.0  11.0  23.0  13.0  14.0   0.0      0.502431  \n",
       "std    ...   NaN   NaN   NaN   NaN   NaN   NaN   NaN   NaN   NaN      0.500012  \n",
       "min    ...  22.0  14.0   3.0  18.0  11.0  23.0  13.0  14.0   0.0      0.000000  \n",
       "25%    ...  22.0  14.0   3.0  18.0  11.0  23.0  13.0  14.0   0.0      0.000000  \n",
       "50%    ...  22.0  14.0   3.0  18.0  11.0  23.0  13.0  14.0   0.0      1.000000  \n",
       "75%    ...  22.0  14.0   3.0  18.0  11.0  23.0  13.0  14.0   0.0      1.000000  \n",
       "max    ...  22.0  14.0   3.0  18.0  11.0  23.0  13.0  14.0   0.0      1.000000  \n",
       "\n",
       "[8 rows x 4914 columns]"
      ]
     },
     "execution_count": 19,
     "metadata": {},
     "output_type": "execute_result"
    }
   ],
   "source": [
    "df_dna_01.describe()"
   ]
  },
  {
   "cell_type": "code",
   "execution_count": 20,
   "id": "61e5f176",
   "metadata": {},
   "outputs": [],
   "source": [
    "df_dna_02 = df_dna_01.fillna(0)"
   ]
  },
  {
   "cell_type": "code",
   "execution_count": 23,
   "id": "7dfddea8",
   "metadata": {},
   "outputs": [
    {
     "data": {
      "text/html": [
       "<div>\n",
       "<style scoped>\n",
       "    .dataframe tbody tr th:only-of-type {\n",
       "        vertical-align: middle;\n",
       "    }\n",
       "\n",
       "    .dataframe tbody tr th {\n",
       "        vertical-align: top;\n",
       "    }\n",
       "\n",
       "    .dataframe thead th {\n",
       "        text-align: right;\n",
       "    }\n",
       "</style>\n",
       "<table border=\"1\" class=\"dataframe\">\n",
       "  <thead>\n",
       "    <tr style=\"text-align: right;\">\n",
       "      <th></th>\n",
       "      <th>code</th>\n",
       "      <th>0</th>\n",
       "      <th>1</th>\n",
       "      <th>2</th>\n",
       "      <th>3</th>\n",
       "      <th>4</th>\n",
       "      <th>5</th>\n",
       "      <th>6</th>\n",
       "      <th>7</th>\n",
       "      <th>8</th>\n",
       "      <th>...</th>\n",
       "      <th>5176</th>\n",
       "      <th>5177</th>\n",
       "      <th>5178</th>\n",
       "      <th>5179</th>\n",
       "      <th>5180</th>\n",
       "      <th>5181</th>\n",
       "      <th>5182</th>\n",
       "      <th>5183</th>\n",
       "      <th>5184</th>\n",
       "      <th>label</th>\n",
       "    </tr>\n",
       "  </thead>\n",
       "  <tbody>\n",
       "    <tr>\n",
       "      <th>9940</th>\n",
       "      <td>Q32AV4</td>\n",
       "      <td>0</td>\n",
       "      <td>13</td>\n",
       "      <td>20</td>\n",
       "      <td>17</td>\n",
       "      <td>12</td>\n",
       "      <td>1</td>\n",
       "      <td>9</td>\n",
       "      <td>7</td>\n",
       "      <td>11</td>\n",
       "      <td>...</td>\n",
       "      <td>0.0</td>\n",
       "      <td>0.0</td>\n",
       "      <td>0.0</td>\n",
       "      <td>0.0</td>\n",
       "      <td>0.0</td>\n",
       "      <td>0.0</td>\n",
       "      <td>0.0</td>\n",
       "      <td>0.0</td>\n",
       "      <td>0.0</td>\n",
       "      <td>0</td>\n",
       "    </tr>\n",
       "    <tr>\n",
       "      <th>10181</th>\n",
       "      <td>Q5GT39</td>\n",
       "      <td>0</td>\n",
       "      <td>13</td>\n",
       "      <td>22</td>\n",
       "      <td>5</td>\n",
       "      <td>17</td>\n",
       "      <td>11</td>\n",
       "      <td>4</td>\n",
       "      <td>11</td>\n",
       "      <td>25</td>\n",
       "      <td>...</td>\n",
       "      <td>0.0</td>\n",
       "      <td>0.0</td>\n",
       "      <td>0.0</td>\n",
       "      <td>0.0</td>\n",
       "      <td>0.0</td>\n",
       "      <td>0.0</td>\n",
       "      <td>0.0</td>\n",
       "      <td>0.0</td>\n",
       "      <td>0.0</td>\n",
       "      <td>0</td>\n",
       "    </tr>\n",
       "  </tbody>\n",
       "</table>\n",
       "<p>2 rows × 5187 columns</p>\n",
       "</div>"
      ],
      "text/plain": [
       "         code  0   1   2   3   4   5  6   7   8  ...  5176  5177  5178  5179  \\\n",
       "9940   Q32AV4  0  13  20  17  12   1  9   7  11  ...   0.0   0.0   0.0   0.0   \n",
       "10181  Q5GT39  0  13  22   5  17  11  4  11  25  ...   0.0   0.0   0.0   0.0   \n",
       "\n",
       "       5180  5181  5182  5183  5184  label  \n",
       "9940    0.0   0.0   0.0   0.0   0.0      0  \n",
       "10181   0.0   0.0   0.0   0.0   0.0      0  \n",
       "\n",
       "[2 rows x 5187 columns]"
      ]
     },
     "execution_count": 23,
     "metadata": {},
     "output_type": "execute_result"
    }
   ],
   "source": [
    "df_dna_02.sample(2)"
   ]
  },
  {
   "cell_type": "code",
   "execution_count": 24,
   "id": "c12559ed",
   "metadata": {},
   "outputs": [],
   "source": [
    "y_train = df_dna_02['label'].values\n",
    "X_train = df_dna_02.drop(columns=['code','label']).values"
   ]
  },
  {
   "cell_type": "code",
   "execution_count": 25,
   "id": "8ff1804a",
   "metadata": {},
   "outputs": [
    {
     "data": {
      "text/plain": [
       "array([1, 1, 1, ..., 0, 0, 0])"
      ]
     },
     "execution_count": 25,
     "metadata": {},
     "output_type": "execute_result"
    }
   ],
   "source": [
    "y_train"
   ]
  },
  {
   "cell_type": "code",
   "execution_count": 26,
   "id": "6dc0d4b6",
   "metadata": {},
   "outputs": [
    {
     "data": {
      "text/plain": [
       "array([[ 0., 13., 19., ...,  0.,  0.,  0.],\n",
       "       [ 0., 13.,  9., ...,  0.,  0.,  0.],\n",
       "       [ 0., 13.,  1., ...,  0.,  0.,  0.],\n",
       "       ...,\n",
       "       [ 0., 13.,  1., ...,  0.,  0.,  0.],\n",
       "       [ 0., 13., 11., ...,  0.,  0.,  0.],\n",
       "       [ 0., 13.,  7., ..., 20.,  8.,  0.]])"
      ]
     },
     "execution_count": 26,
     "metadata": {},
     "output_type": "execute_result"
    }
   ],
   "source": [
    "X_train"
   ]
  },
  {
   "cell_type": "code",
   "execution_count": 27,
   "id": "775782b9",
   "metadata": {},
   "outputs": [
    {
     "data": {
      "text/plain": [
       "array([[ 0., 13., 19., ...,  0.,  0.,  0.],\n",
       "       [ 0., 13.,  9., ...,  0.,  0.,  0.],\n",
       "       [ 0., 13.,  1., ...,  0.,  0.,  0.],\n",
       "       ...,\n",
       "       [ 0., 13.,  1., ...,  0.,  0.,  0.],\n",
       "       [ 0., 13., 11., ...,  0.,  0.,  0.],\n",
       "       [ 0., 13.,  7., ..., 20.,  8.,  0.]])"
      ]
     },
     "execution_count": 27,
     "metadata": {},
     "output_type": "execute_result"
    }
   ],
   "source": [
    "import numpy as np\n",
    "#X_train[X_train == ''] = 0 # not needed anymore\n",
    "X_train.astype(np.float64)"
   ]
  },
  {
   "cell_type": "code",
   "execution_count": 28,
   "id": "8aa81067",
   "metadata": {},
   "outputs": [],
   "source": [
    "# %%timeit\n",
    "for column in df_dna_test_01.columns[1: len(df_dna_test_01.columns)-1]:\n",
    "    df_dna_test_01[column] = df_dna_test_01[column].replace(letter_2num)"
   ]
  },
  {
   "cell_type": "code",
   "execution_count": 29,
   "id": "f7e08d76",
   "metadata": {},
   "outputs": [],
   "source": [
    "df_dna_test_01.to_csv('data/dna_binding/dna_test_file.csv')"
   ]
  },
  {
   "cell_type": "code",
   "execution_count": 30,
   "id": "1ec8fccd",
   "metadata": {},
   "outputs": [
    {
     "data": {
      "text/html": [
       "<div>\n",
       "<style scoped>\n",
       "    .dataframe tbody tr th:only-of-type {\n",
       "        vertical-align: middle;\n",
       "    }\n",
       "\n",
       "    .dataframe tbody tr th {\n",
       "        vertical-align: top;\n",
       "    }\n",
       "\n",
       "    .dataframe thead th {\n",
       "        text-align: right;\n",
       "    }\n",
       "</style>\n",
       "<table border=\"1\" class=\"dataframe\">\n",
       "  <thead>\n",
       "    <tr style=\"text-align: right;\">\n",
       "      <th></th>\n",
       "      <th>code</th>\n",
       "      <th>0</th>\n",
       "      <th>1</th>\n",
       "      <th>2</th>\n",
       "      <th>3</th>\n",
       "      <th>4</th>\n",
       "      <th>5</th>\n",
       "      <th>6</th>\n",
       "      <th>7</th>\n",
       "      <th>8</th>\n",
       "      <th>...</th>\n",
       "      <th>5176</th>\n",
       "      <th>5177</th>\n",
       "      <th>5178</th>\n",
       "      <th>5179</th>\n",
       "      <th>5180</th>\n",
       "      <th>5181</th>\n",
       "      <th>5182</th>\n",
       "      <th>5183</th>\n",
       "      <th>5184</th>\n",
       "      <th>label</th>\n",
       "    </tr>\n",
       "  </thead>\n",
       "  <tbody>\n",
       "    <tr>\n",
       "      <th>829</th>\n",
       "      <td>P35201|1</td>\n",
       "      <td>0</td>\n",
       "      <td>13</td>\n",
       "      <td>4</td>\n",
       "      <td>25</td>\n",
       "      <td>13</td>\n",
       "      <td>11</td>\n",
       "      <td>12</td>\n",
       "      <td>7</td>\n",
       "      <td>12</td>\n",
       "      <td>...</td>\n",
       "      <td>0.0</td>\n",
       "      <td>0.0</td>\n",
       "      <td>0.0</td>\n",
       "      <td>0.0</td>\n",
       "      <td>0.0</td>\n",
       "      <td>0.0</td>\n",
       "      <td>0.0</td>\n",
       "      <td>0.0</td>\n",
       "      <td>0.0</td>\n",
       "      <td>1</td>\n",
       "    </tr>\n",
       "    <tr>\n",
       "      <th>811</th>\n",
       "      <td>Q12766|1</td>\n",
       "      <td>0</td>\n",
       "      <td>18</td>\n",
       "      <td>25</td>\n",
       "      <td>3</td>\n",
       "      <td>18</td>\n",
       "      <td>3</td>\n",
       "      <td>19</td>\n",
       "      <td>18</td>\n",
       "      <td>17</td>\n",
       "      <td>...</td>\n",
       "      <td>0.0</td>\n",
       "      <td>0.0</td>\n",
       "      <td>0.0</td>\n",
       "      <td>0.0</td>\n",
       "      <td>0.0</td>\n",
       "      <td>0.0</td>\n",
       "      <td>0.0</td>\n",
       "      <td>0.0</td>\n",
       "      <td>0.0</td>\n",
       "      <td>1</td>\n",
       "    </tr>\n",
       "  </tbody>\n",
       "</table>\n",
       "<p>2 rows × 5187 columns</p>\n",
       "</div>"
      ],
      "text/plain": [
       "         code  0   1   2   3   4   5   6   7   8  ...  5176  5177  5178  5179  \\\n",
       "829  P35201|1  0  13   4  25  13  11  12   7  12  ...   0.0   0.0   0.0   0.0   \n",
       "811  Q12766|1  0  18  25   3  18   3  19  18  17  ...   0.0   0.0   0.0   0.0   \n",
       "\n",
       "     5180  5181  5182  5183  5184  label  \n",
       "829   0.0   0.0   0.0   0.0   0.0      1  \n",
       "811   0.0   0.0   0.0   0.0   0.0      1  \n",
       "\n",
       "[2 rows x 5187 columns]"
      ]
     },
     "execution_count": 30,
     "metadata": {},
     "output_type": "execute_result"
    }
   ],
   "source": [
    "df_dna_test_02 = df_dna_test_01.fillna(0)\n",
    "\n",
    "df_dna_test_02.sample(2)"
   ]
  },
  {
   "cell_type": "code",
   "execution_count": 31,
   "id": "4cc5772b",
   "metadata": {},
   "outputs": [],
   "source": [
    "y_test = df_dna_test_02['label'].values\n",
    "X_test = df_dna_test_02.drop(columns=['code','label']).values"
   ]
  },
  {
   "cell_type": "code",
   "execution_count": 32,
   "id": "c63ff21a",
   "metadata": {},
   "outputs": [
    {
     "data": {
      "text/plain": [
       "array([[ 0.,  1., 11., ...,  0.,  0.,  0.],\n",
       "       [ 0., 13., 22., ...,  0.,  0.,  0.],\n",
       "       [ 0., 13., 11., ...,  0.,  0.,  0.],\n",
       "       ...,\n",
       "       [ 0., 13., 14., ...,  0.,  0.,  0.],\n",
       "       [ 0., 13., 22., ...,  0.,  0.,  0.],\n",
       "       [ 0., 13., 14., ...,  0.,  0.,  0.]])"
      ]
     },
     "execution_count": 32,
     "metadata": {},
     "output_type": "execute_result"
    }
   ],
   "source": [
    "X_test.astype(np.float64)"
   ]
  },
  {
   "cell_type": "code",
   "execution_count": 39,
   "id": "2dae8b5c",
   "metadata": {},
   "outputs": [],
   "source": [
    "df4 = None\n",
    "df5 = None"
   ]
  },
  {
   "cell_type": "code",
   "execution_count": 40,
   "id": "9d198607",
   "metadata": {},
   "outputs": [],
   "source": [
    "#scale the features, applying MinMaxScaler\n",
    "\n",
    "from sklearn.preprocessing import MinMaxScaler\n",
    "from sklearn.ensemble import GradientBoostingClassifier\n",
    "scaler = MinMaxScaler() "
   ]
  },
  {
   "cell_type": "code",
   "execution_count": 42,
   "id": "6d1c4caa",
   "metadata": {},
   "outputs": [],
   "source": [
    "\n",
    "X_train = scaler.fit_transform(X_train) "
   ]
  },
  {
   "cell_type": "code",
   "execution_count": 43,
   "id": "a5cbbd04",
   "metadata": {},
   "outputs": [
    {
     "data": {
      "text/plain": [
       "array([[ 0.,  1., 11., ...,  0.,  0.,  0.],\n",
       "       [ 0., 13., 22., ...,  0.,  0.,  0.],\n",
       "       [ 0., 13., 11., ...,  0.,  0.,  0.],\n",
       "       ...,\n",
       "       [ 0., 13., 14., ...,  0.,  0.,  0.],\n",
       "       [ 0., 13., 22., ...,  0.,  0.,  0.],\n",
       "       [ 0., 13., 14., ...,  0.,  0.,  0.]])"
      ]
     },
     "execution_count": 43,
     "metadata": {},
     "output_type": "execute_result"
    }
   ],
   "source": [
    "X_test"
   ]
  },
  {
   "cell_type": "code",
   "execution_count": 45,
   "id": "cf889abc",
   "metadata": {},
   "outputs": [],
   "source": [
    "X_test = scaler.fit_transform(X_test) "
   ]
  },
  {
   "cell_type": "code",
   "execution_count": 46,
   "id": "455e091e",
   "metadata": {},
   "outputs": [
    {
     "name": "stdout",
     "output_type": "stream",
     "text": [
      "(14190, 5185)\n",
      "(14190,)\n"
     ]
    }
   ],
   "source": [
    "print(X_train.shape)\n",
    "print(y_train.shape)\n"
   ]
  },
  {
   "cell_type": "code",
   "execution_count": 47,
   "id": "69369e06",
   "metadata": {},
   "outputs": [
    {
     "name": "stdout",
     "output_type": "stream",
     "text": [
      "CPU times: user 2min 34s, sys: 166 ms, total: 2min 34s\n",
      "Wall time: 2min 34s\n"
     ]
    },
    {
     "data": {
      "text/html": [
       "<style>#sk-container-id-1 {color: black;background-color: white;}#sk-container-id-1 pre{padding: 0;}#sk-container-id-1 div.sk-toggleable {background-color: white;}#sk-container-id-1 label.sk-toggleable__label {cursor: pointer;display: block;width: 100%;margin-bottom: 0;padding: 0.3em;box-sizing: border-box;text-align: center;}#sk-container-id-1 label.sk-toggleable__label-arrow:before {content: \"▸\";float: left;margin-right: 0.25em;color: #696969;}#sk-container-id-1 label.sk-toggleable__label-arrow:hover:before {color: black;}#sk-container-id-1 div.sk-estimator:hover label.sk-toggleable__label-arrow:before {color: black;}#sk-container-id-1 div.sk-toggleable__content {max-height: 0;max-width: 0;overflow: hidden;text-align: left;background-color: #f0f8ff;}#sk-container-id-1 div.sk-toggleable__content pre {margin: 0.2em;color: black;border-radius: 0.25em;background-color: #f0f8ff;}#sk-container-id-1 input.sk-toggleable__control:checked~div.sk-toggleable__content {max-height: 200px;max-width: 100%;overflow: auto;}#sk-container-id-1 input.sk-toggleable__control:checked~label.sk-toggleable__label-arrow:before {content: \"▾\";}#sk-container-id-1 div.sk-estimator input.sk-toggleable__control:checked~label.sk-toggleable__label {background-color: #d4ebff;}#sk-container-id-1 div.sk-label input.sk-toggleable__control:checked~label.sk-toggleable__label {background-color: #d4ebff;}#sk-container-id-1 input.sk-hidden--visually {border: 0;clip: rect(1px 1px 1px 1px);clip: rect(1px, 1px, 1px, 1px);height: 1px;margin: -1px;overflow: hidden;padding: 0;position: absolute;width: 1px;}#sk-container-id-1 div.sk-estimator {font-family: monospace;background-color: #f0f8ff;border: 1px dotted black;border-radius: 0.25em;box-sizing: border-box;margin-bottom: 0.5em;}#sk-container-id-1 div.sk-estimator:hover {background-color: #d4ebff;}#sk-container-id-1 div.sk-parallel-item::after {content: \"\";width: 100%;border-bottom: 1px solid gray;flex-grow: 1;}#sk-container-id-1 div.sk-label:hover label.sk-toggleable__label {background-color: #d4ebff;}#sk-container-id-1 div.sk-serial::before {content: \"\";position: absolute;border-left: 1px solid gray;box-sizing: border-box;top: 0;bottom: 0;left: 50%;z-index: 0;}#sk-container-id-1 div.sk-serial {display: flex;flex-direction: column;align-items: center;background-color: white;padding-right: 0.2em;padding-left: 0.2em;position: relative;}#sk-container-id-1 div.sk-item {position: relative;z-index: 1;}#sk-container-id-1 div.sk-parallel {display: flex;align-items: stretch;justify-content: center;background-color: white;position: relative;}#sk-container-id-1 div.sk-item::before, #sk-container-id-1 div.sk-parallel-item::before {content: \"\";position: absolute;border-left: 1px solid gray;box-sizing: border-box;top: 0;bottom: 0;left: 50%;z-index: -1;}#sk-container-id-1 div.sk-parallel-item {display: flex;flex-direction: column;z-index: 1;position: relative;background-color: white;}#sk-container-id-1 div.sk-parallel-item:first-child::after {align-self: flex-end;width: 50%;}#sk-container-id-1 div.sk-parallel-item:last-child::after {align-self: flex-start;width: 50%;}#sk-container-id-1 div.sk-parallel-item:only-child::after {width: 0;}#sk-container-id-1 div.sk-dashed-wrapped {border: 1px dashed gray;margin: 0 0.4em 0.5em 0.4em;box-sizing: border-box;padding-bottom: 0.4em;background-color: white;}#sk-container-id-1 div.sk-label label {font-family: monospace;font-weight: bold;display: inline-block;line-height: 1.2em;}#sk-container-id-1 div.sk-label-container {text-align: center;}#sk-container-id-1 div.sk-container {/* jupyter's `normalize.less` sets `[hidden] { display: none; }` but bootstrap.min.css set `[hidden] { display: none !important; }` so we also need the `!important` here to be able to override the default hidden behavior on the sphinx rendered scikit-learn.org. See: https://github.com/scikit-learn/scikit-learn/issues/21755 */display: inline-block !important;position: relative;}#sk-container-id-1 div.sk-text-repr-fallback {display: none;}</style><div id=\"sk-container-id-1\" class=\"sk-top-container\"><div class=\"sk-text-repr-fallback\"><pre>GradientBoostingClassifier(random_state=42)</pre><b>In a Jupyter environment, please rerun this cell to show the HTML representation or trust the notebook. <br />On GitHub, the HTML representation is unable to render, please try loading this page with nbviewer.org.</b></div><div class=\"sk-container\" hidden><div class=\"sk-item\"><div class=\"sk-estimator sk-toggleable\"><input class=\"sk-toggleable__control sk-hidden--visually\" id=\"sk-estimator-id-1\" type=\"checkbox\" checked><label for=\"sk-estimator-id-1\" class=\"sk-toggleable__label sk-toggleable__label-arrow\">GradientBoostingClassifier</label><div class=\"sk-toggleable__content\"><pre>GradientBoostingClassifier(random_state=42)</pre></div></div></div></div></div>"
      ],
      "text/plain": [
       "GradientBoostingClassifier(random_state=42)"
      ]
     },
     "execution_count": 47,
     "metadata": {},
     "output_type": "execute_result"
    }
   ],
   "source": [
    "%%time\n",
    "gbt_model = GradientBoostingClassifier(random_state=42)\n",
    "gbt_model.fit(X_train, y_train)"
   ]
  },
  {
   "cell_type": "code",
   "execution_count": 50,
   "id": "3ad4319a",
   "metadata": {},
   "outputs": [],
   "source": [
    "gbt_pred = gbt_model.predict(X_test)\n",
    "# print(X_test.shape)"
   ]
  },
  {
   "cell_type": "code",
   "execution_count": 51,
   "id": "857a3f8b",
   "metadata": {},
   "outputs": [
    {
     "name": "stdout",
     "output_type": "stream",
     "text": [
      "accuracy: 0.6320422535211268\n",
      "precision: 0.603257328990228\n",
      "recall: 0.803122289679098\n",
      "f1 score: 0.6889880952380952\n",
      "confusion matrix:\n",
      "[[510 609]\n",
      " [227 926]]\n"
     ]
    }
   ],
   "source": [
    "from sklearn.metrics import (\n",
    "    confusion_matrix,\n",
    "    accuracy_score as accuracy,\n",
    "    recall_score as recall,\n",
    "    precision_score as precision,\n",
    "    f1_score\n",
    ")\n",
    "\n",
    "print(\"accuracy:\", accuracy(y_test, gbt_pred))\n",
    "print(\"precision:\", precision(y_test, gbt_pred))\n",
    "print(\"recall:\", recall(y_test, gbt_pred))\n",
    "print(\"f1 score:\", f1_score(y_test, gbt_pred))\n",
    "print(\"confusion matrix:\")\n",
    "print(confusion_matrix(y_test, gbt_pred))"
   ]
  },
  {
   "cell_type": "code",
   "execution_count": 55,
   "id": "f61ce1b8",
   "metadata": {},
   "outputs": [
    {
     "name": "stderr",
     "output_type": "stream",
     "text": [
      "/home/chrisogonas/anaconda3/envs/py39_12/lib/python3.9/site-packages/tpot/builtins/__init__.py:36: UserWarning: Warning: optional dependency `torch` is not available. - skipping import of NN models.\n",
      "  warnings.warn(\"Warning: optional dependency `torch` is not available. - skipping import of NN models.\")\n"
     ]
    },
    {
     "data": {
      "application/vnd.jupyter.widget-view+json": {
       "model_id": "9942e32de49d4c9282aba2540ca21e40",
       "version_major": 2,
       "version_minor": 0
      },
      "text/plain": [
       "Optimization Progress:   0%|          | 0/176 [00:00<?, ?pipeline/s]"
      ]
     },
     "metadata": {},
     "output_type": "display_data"
    },
    {
     "name": "stdout",
     "output_type": "stream",
     "text": [
      "\n",
      "Generation 1 - Current best internal CV score: 0.6732841140041623\n",
      "\n",
      "Generation 2 - Current best internal CV score: 0.6732841140041623\n",
      "\n",
      "Generation 3 - Current best internal CV score: 0.6732841140041623\n",
      "\n",
      "Generation 4 - Current best internal CV score: 0.6732841140041623\n"
     ]
    },
    {
     "ename": "",
     "evalue": "",
     "output_type": "error",
     "traceback": [
      "\u001b[1;31mCanceled future for execute_request message before replies were done"
     ]
    },
    {
     "ename": "",
     "evalue": "",
     "output_type": "error",
     "traceback": [
      "\u001b[1;31mThe Kernel crashed while executing code in the the current cell or a previous cell. Please review the code in the cell(s) to identify a possible cause of the failure. Click <a href='https://aka.ms/vscodeJupyterKernelCrash'>here</a> for more info. View Jupyter <a href='command:jupyter.viewOutput'>log</a> for further details."
     ]
    }
   ],
   "source": [
    "%%time\n",
    "from tpot import TPOTClassifier\n",
    "tpot = TPOTClassifier(generations=10, \n",
    "                      population_size=16,\n",
    "                      scoring='f1',\n",
    "                      verbosity=2,\n",
    "                      random_state=42)\n",
    "tpot.fit(X_test, y_test)\n",
    "print(f\"Tpop score on test data: {tpot.score(X_test, y_test):.2f}\")\n",
    "tpot.export('acp_pipeline.py')"
   ]
  },
  {
   "cell_type": "code",
   "execution_count": null,
   "id": "a23a7f77",
   "metadata": {},
   "outputs": [],
   "source": [
    "!cat acp_pipeline.py #copy some of the code generated below"
   ]
  }
 ],
 "metadata": {
  "kernelspec": {
   "display_name": "Python 3 (ipykernel)",
   "language": "python",
   "name": "python3"
  },
  "language_info": {
   "codemirror_mode": {
    "name": "ipython",
    "version": 3
   },
   "file_extension": ".py",
   "mimetype": "text/x-python",
   "name": "python",
   "nbconvert_exporter": "python",
   "pygments_lexer": "ipython3",
   "version": "3.8.15"
  },
  "vscode": {
   "interpreter": {
    "hash": "ada5f677f481706e3bb5b3d68d6182ea2c672fcc2cdea862fd59fbb9bf33c123"
   }
  }
 },
 "nbformat": 4,
 "nbformat_minor": 5
}
